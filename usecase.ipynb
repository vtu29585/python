{
  "nbformat": 4,
  "nbformat_minor": 0,
  "metadata": {
    "colab": {
      "provenance": [],
      "authorship_tag": "ABX9TyNUsIdNzZkp9pwa/klm+xrP",
      "include_colab_link": true
    },
    "kernelspec": {
      "name": "python3",
      "display_name": "Python 3"
    },
    "language_info": {
      "name": "python"
    }
  },
  "cells": [
    {
      "cell_type": "markdown",
      "metadata": {
        "id": "view-in-github",
        "colab_type": "text"
      },
      "source": [
        "<a href=\"https://colab.research.google.com/github/vtu29585/python/blob/main/usecase.ipynb\" target=\"_parent\"><img src=\"https://colab.research.google.com/assets/colab-badge.svg\" alt=\"Open In Colab\"/></a>"
      ]
    },
    {
      "cell_type": "code",
      "execution_count": null,
      "metadata": {
        "id": "QmkbcD7cHPxc"
      },
      "outputs": [],
      "source": [
        "# Dice Rolling Simulation using NumPy\n",
        "\n",
        "import numpy as np\n",
        "\n",
        "def roll_dice():\n",
        "    while True:\n",
        "        # Ask how many dice to roll\n",
        "        num_dice = int(input(\"Enter number of dice to roll: \"))\n",
        "\n",
        "        # Generate random dice rolls between 1 and 6\n",
        "        results = np.random.randint(1, 7, size=num_dice)\n",
        "\n",
        "        # Display results\n",
        "        print(f\"\\n🎲 Dice results: {results}\")\n",
        "        print(f\"Total Sum: {np.sum(results)}\\n\")\n",
        "\n",
        "        # Ask if user wants to roll again\n",
        "        choice = input(\"Roll again? (y/n): \").lower()\n",
        "        if choice != 'y':\n",
        "            print(\"🎯 Simulation Ended. Thank you for playing!\")\n",
        "            break\n",
        "\n",
        "# Run the simulation\n",
        "roll_dice()\n"
      ]
    }
  ]
}